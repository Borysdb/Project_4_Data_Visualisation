{
 "cells": [
  {
   "cell_type": "code",
   "execution_count": 1,
   "id": "f0012eb6",
   "metadata": {},
   "outputs": [],
   "source": [
    "import matplotlib.pyplot as plt\n",
    "import math\n",
    "import numpy as np\n",
    "import pandas as pd\n",
    "import seaborn as sns\n",
    "from matplotlib.pyplot import figure"
   ]
  },
  {
   "cell_type": "code",
   "execution_count": 2,
   "id": "41279491",
   "metadata": {},
   "outputs": [],
   "source": [
    "airbnb = pd.read_csv(r\"C:\\Users\\borsi\\Downloads\\Airbnb_Open_Data.csv\", low_memory=False)"
   ]
  },
  {
   "cell_type": "code",
   "execution_count": 48,
   "id": "511b4f81",
   "metadata": {},
   "outputs": [
    {
     "data": {
      "text/plain": [
       "98589"
      ]
     },
     "execution_count": 48,
     "metadata": {},
     "output_type": "execute_result"
    }
   ],
   "source": [
    "len(airbnb)"
   ]
  },
  {
   "cell_type": "code",
   "execution_count": 5,
   "id": "4d59fbe6",
   "metadata": {},
   "outputs": [],
   "source": [
    "airbnb=airbnb.drop('host name', axis = 1)\n",
    "airbnb=airbnb.drop('country', axis = 1)\n",
    "airbnb=airbnb.drop('country code', axis = 1)\n",
    "#airbnb=airbnb.drop('Construction year', axis = 1)\n",
    "airbnb=airbnb.drop('license', axis = 1)"
   ]
  },
  {
   "cell_type": "code",
   "execution_count": 7,
   "id": "968956cd",
   "metadata": {},
   "outputs": [
    {
     "data": {
      "text/plain": [
       "102599"
      ]
     },
     "execution_count": 7,
     "metadata": {},
     "output_type": "execute_result"
    }
   ],
   "source": [
    "len(airbnb)"
   ]
  },
  {
   "cell_type": "code",
   "execution_count": 8,
   "id": "b83e8888",
   "metadata": {},
   "outputs": [
    {
     "data": {
      "text/plain": [
       "105"
      ]
     },
     "execution_count": 8,
     "metadata": {},
     "output_type": "execute_result"
    }
   ],
   "source": [
    "airbnb['instant_bookable'].isna().sum()"
   ]
  },
  {
   "cell_type": "code",
   "execution_count": 9,
   "id": "b3f742ec",
   "metadata": {},
   "outputs": [],
   "source": [
    "airbnb['instant_bookable'].fillna(\"False\", inplace = True)"
   ]
  },
  {
   "cell_type": "code",
   "execution_count": 10,
   "id": "7017665c",
   "metadata": {},
   "outputs": [
    {
     "data": {
      "text/plain": [
       "76"
      ]
     },
     "execution_count": 10,
     "metadata": {},
     "output_type": "execute_result"
    }
   ],
   "source": [
    "airbnb['cancellation_policy'].isna().sum()"
   ]
  },
  {
   "cell_type": "code",
   "execution_count": 11,
   "id": "5a648257",
   "metadata": {},
   "outputs": [],
   "source": [
    "airbnb['cancellation_policy'].fillna(\"strict\", inplace = True)"
   ]
  },
  {
   "cell_type": "code",
   "execution_count": 12,
   "id": "379cb219",
   "metadata": {},
   "outputs": [
    {
     "name": "stderr",
     "output_type": "stream",
     "text": [
      "C:\\Users\\cleme\\AppData\\Local\\Temp\\ipykernel_16904\\921606554.py:1: FutureWarning: The default value of regex will change from True to False in a future version.\n",
      "  airbnb['price'] = airbnb['price'].str.replace(r'\\$', '')\n"
     ]
    }
   ],
   "source": [
    "airbnb['price'] = airbnb['price'].str.replace(r'\\$', '')"
   ]
  },
  {
   "cell_type": "code",
   "execution_count": 13,
   "id": "9887a7ce",
   "metadata": {},
   "outputs": [
    {
     "name": "stderr",
     "output_type": "stream",
     "text": [
      "C:\\Users\\cleme\\AppData\\Local\\Temp\\ipykernel_16904\\4088111326.py:1: FutureWarning: The default value of regex will change from True to False in a future version.\n",
      "  airbnb['price'] = airbnb['price'].str.replace(r'\\,', '')\n"
     ]
    }
   ],
   "source": [
    "airbnb['price'] = airbnb['price'].str.replace(r'\\,', '')"
   ]
  },
  {
   "cell_type": "code",
   "execution_count": 14,
   "id": "2cd5fe84",
   "metadata": {},
   "outputs": [],
   "source": [
    "airbnb['price']=airbnb['price'].astype('float')"
   ]
  },
  {
   "cell_type": "code",
   "execution_count": 15,
   "id": "e1402504",
   "metadata": {},
   "outputs": [],
   "source": [
    "airbnb['price'] = airbnb['price'].fillna(airbnb['price'].mean())"
   ]
  },
  {
   "cell_type": "code",
   "execution_count": 16,
   "id": "058bcd0b",
   "metadata": {},
   "outputs": [
    {
     "data": {
      "text/plain": [
       "102599"
      ]
     },
     "execution_count": 16,
     "metadata": {},
     "output_type": "execute_result"
    }
   ],
   "source": [
    "len(airbnb)"
   ]
  },
  {
   "cell_type": "code",
   "execution_count": 18,
   "id": "44d28f97",
   "metadata": {},
   "outputs": [
    {
     "data": {
      "text/plain": [
       "273"
      ]
     },
     "execution_count": 18,
     "metadata": {},
     "output_type": "execute_result"
    }
   ],
   "source": [
    "airbnb['service fee'].isna().sum()"
   ]
  },
  {
   "cell_type": "code",
   "execution_count": 19,
   "id": "a500c9d6",
   "metadata": {},
   "outputs": [
    {
     "name": "stderr",
     "output_type": "stream",
     "text": [
      "C:\\Users\\cleme\\AppData\\Local\\Temp\\ipykernel_16904\\1964772666.py:1: FutureWarning: The default value of regex will change from True to False in a future version.\n",
      "  airbnb['service fee'] = airbnb['service fee'].str.replace(r'\\$', '')\n"
     ]
    }
   ],
   "source": [
    "airbnb['service fee'] = airbnb['service fee'].str.replace(r'\\$', '')"
   ]
  },
  {
   "cell_type": "code",
   "execution_count": 20,
   "id": "b22b9326",
   "metadata": {},
   "outputs": [
    {
     "name": "stderr",
     "output_type": "stream",
     "text": [
      "C:\\Users\\cleme\\AppData\\Local\\Temp\\ipykernel_16904\\608115440.py:1: FutureWarning: The default value of regex will change from True to False in a future version.\n",
      "  airbnb['service fee'] = airbnb['service fee'].str.replace(r'\\,', '')\n"
     ]
    }
   ],
   "source": [
    "airbnb['service fee'] = airbnb['service fee'].str.replace(r'\\,', '')"
   ]
  },
  {
   "cell_type": "code",
   "execution_count": 21,
   "id": "cc352c2a",
   "metadata": {},
   "outputs": [],
   "source": [
    "airbnb['service fee']=airbnb['service fee'].astype('float')"
   ]
  },
  {
   "cell_type": "code",
   "execution_count": 22,
   "id": "8c5bb0b4",
   "metadata": {},
   "outputs": [],
   "source": [
    "airbnb['service fee'] = airbnb['service fee'].fillna(airbnb['price']*0.2)"
   ]
  },
  {
   "cell_type": "code",
   "execution_count": 23,
   "id": "91a018dd",
   "metadata": {},
   "outputs": [
    {
     "data": {
      "text/html": [
       "<div>\n",
       "<style scoped>\n",
       "    .dataframe tbody tr th:only-of-type {\n",
       "        vertical-align: middle;\n",
       "    }\n",
       "\n",
       "    .dataframe tbody tr th {\n",
       "        vertical-align: top;\n",
       "    }\n",
       "\n",
       "    .dataframe thead th {\n",
       "        text-align: right;\n",
       "    }\n",
       "</style>\n",
       "<table border=\"1\" class=\"dataframe\">\n",
       "  <thead>\n",
       "    <tr style=\"text-align: right;\">\n",
       "      <th></th>\n",
       "      <th>id</th>\n",
       "      <th>host id</th>\n",
       "      <th>lat</th>\n",
       "      <th>long</th>\n",
       "      <th>Construction year</th>\n",
       "      <th>price</th>\n",
       "      <th>service fee</th>\n",
       "      <th>minimum nights</th>\n",
       "      <th>number of reviews</th>\n",
       "      <th>reviews per month</th>\n",
       "      <th>review rate number</th>\n",
       "      <th>calculated host listings count</th>\n",
       "      <th>availability 365</th>\n",
       "    </tr>\n",
       "  </thead>\n",
       "  <tbody>\n",
       "    <tr>\n",
       "      <th>count</th>\n",
       "      <td>1.025990e+05</td>\n",
       "      <td>1.025990e+05</td>\n",
       "      <td>102591.000000</td>\n",
       "      <td>102591.000000</td>\n",
       "      <td>102385.000000</td>\n",
       "      <td>102599.000000</td>\n",
       "      <td>102599.000000</td>\n",
       "      <td>102190.000000</td>\n",
       "      <td>102416.000000</td>\n",
       "      <td>86720.000000</td>\n",
       "      <td>102273.000000</td>\n",
       "      <td>102280.000000</td>\n",
       "      <td>102151.000000</td>\n",
       "    </tr>\n",
       "    <tr>\n",
       "      <th>mean</th>\n",
       "      <td>2.914623e+07</td>\n",
       "      <td>4.925411e+10</td>\n",
       "      <td>40.728094</td>\n",
       "      <td>-73.949644</td>\n",
       "      <td>2012.487464</td>\n",
       "      <td>625.293536</td>\n",
       "      <td>125.047958</td>\n",
       "      <td>8.135845</td>\n",
       "      <td>27.483743</td>\n",
       "      <td>1.374022</td>\n",
       "      <td>3.279106</td>\n",
       "      <td>7.936605</td>\n",
       "      <td>141.133254</td>\n",
       "    </tr>\n",
       "    <tr>\n",
       "      <th>std</th>\n",
       "      <td>1.625751e+07</td>\n",
       "      <td>2.853900e+10</td>\n",
       "      <td>0.055857</td>\n",
       "      <td>0.049521</td>\n",
       "      <td>5.765556</td>\n",
       "      <td>331.272131</td>\n",
       "      <td>66.318958</td>\n",
       "      <td>30.553781</td>\n",
       "      <td>49.508954</td>\n",
       "      <td>1.746621</td>\n",
       "      <td>1.284657</td>\n",
       "      <td>32.218780</td>\n",
       "      <td>135.435024</td>\n",
       "    </tr>\n",
       "    <tr>\n",
       "      <th>min</th>\n",
       "      <td>1.001254e+06</td>\n",
       "      <td>1.236005e+08</td>\n",
       "      <td>40.499790</td>\n",
       "      <td>-74.249840</td>\n",
       "      <td>2003.000000</td>\n",
       "      <td>50.000000</td>\n",
       "      <td>10.000000</td>\n",
       "      <td>-1223.000000</td>\n",
       "      <td>0.000000</td>\n",
       "      <td>0.010000</td>\n",
       "      <td>1.000000</td>\n",
       "      <td>1.000000</td>\n",
       "      <td>-10.000000</td>\n",
       "    </tr>\n",
       "    <tr>\n",
       "      <th>25%</th>\n",
       "      <td>1.508581e+07</td>\n",
       "      <td>2.458333e+10</td>\n",
       "      <td>40.688740</td>\n",
       "      <td>-73.982580</td>\n",
       "      <td>2007.000000</td>\n",
       "      <td>341.000000</td>\n",
       "      <td>68.000000</td>\n",
       "      <td>2.000000</td>\n",
       "      <td>1.000000</td>\n",
       "      <td>0.220000</td>\n",
       "      <td>2.000000</td>\n",
       "      <td>1.000000</td>\n",
       "      <td>3.000000</td>\n",
       "    </tr>\n",
       "    <tr>\n",
       "      <th>50%</th>\n",
       "      <td>2.913660e+07</td>\n",
       "      <td>4.911774e+10</td>\n",
       "      <td>40.722290</td>\n",
       "      <td>-73.954440</td>\n",
       "      <td>2012.000000</td>\n",
       "      <td>625.293536</td>\n",
       "      <td>125.000000</td>\n",
       "      <td>3.000000</td>\n",
       "      <td>7.000000</td>\n",
       "      <td>0.740000</td>\n",
       "      <td>3.000000</td>\n",
       "      <td>1.000000</td>\n",
       "      <td>96.000000</td>\n",
       "    </tr>\n",
       "    <tr>\n",
       "      <th>75%</th>\n",
       "      <td>4.320120e+07</td>\n",
       "      <td>7.399650e+10</td>\n",
       "      <td>40.762760</td>\n",
       "      <td>-73.932350</td>\n",
       "      <td>2017.000000</td>\n",
       "      <td>912.000000</td>\n",
       "      <td>183.000000</td>\n",
       "      <td>5.000000</td>\n",
       "      <td>30.000000</td>\n",
       "      <td>2.000000</td>\n",
       "      <td>4.000000</td>\n",
       "      <td>2.000000</td>\n",
       "      <td>269.000000</td>\n",
       "    </tr>\n",
       "    <tr>\n",
       "      <th>max</th>\n",
       "      <td>5.736742e+07</td>\n",
       "      <td>9.876313e+10</td>\n",
       "      <td>40.916970</td>\n",
       "      <td>-73.705220</td>\n",
       "      <td>2022.000000</td>\n",
       "      <td>1200.000000</td>\n",
       "      <td>240.000000</td>\n",
       "      <td>5645.000000</td>\n",
       "      <td>1024.000000</td>\n",
       "      <td>90.000000</td>\n",
       "      <td>5.000000</td>\n",
       "      <td>332.000000</td>\n",
       "      <td>3677.000000</td>\n",
       "    </tr>\n",
       "  </tbody>\n",
       "</table>\n",
       "</div>"
      ],
      "text/plain": [
       "                 id       host id            lat           long  \\\n",
       "count  1.025990e+05  1.025990e+05  102591.000000  102591.000000   \n",
       "mean   2.914623e+07  4.925411e+10      40.728094     -73.949644   \n",
       "std    1.625751e+07  2.853900e+10       0.055857       0.049521   \n",
       "min    1.001254e+06  1.236005e+08      40.499790     -74.249840   \n",
       "25%    1.508581e+07  2.458333e+10      40.688740     -73.982580   \n",
       "50%    2.913660e+07  4.911774e+10      40.722290     -73.954440   \n",
       "75%    4.320120e+07  7.399650e+10      40.762760     -73.932350   \n",
       "max    5.736742e+07  9.876313e+10      40.916970     -73.705220   \n",
       "\n",
       "       Construction year          price    service fee  minimum nights  \\\n",
       "count      102385.000000  102599.000000  102599.000000   102190.000000   \n",
       "mean         2012.487464     625.293536     125.047958        8.135845   \n",
       "std             5.765556     331.272131      66.318958       30.553781   \n",
       "min          2003.000000      50.000000      10.000000    -1223.000000   \n",
       "25%          2007.000000     341.000000      68.000000        2.000000   \n",
       "50%          2012.000000     625.293536     125.000000        3.000000   \n",
       "75%          2017.000000     912.000000     183.000000        5.000000   \n",
       "max          2022.000000    1200.000000     240.000000     5645.000000   \n",
       "\n",
       "       number of reviews  reviews per month  review rate number  \\\n",
       "count      102416.000000       86720.000000       102273.000000   \n",
       "mean           27.483743           1.374022            3.279106   \n",
       "std            49.508954           1.746621            1.284657   \n",
       "min             0.000000           0.010000            1.000000   \n",
       "25%             1.000000           0.220000            2.000000   \n",
       "50%             7.000000           0.740000            3.000000   \n",
       "75%            30.000000           2.000000            4.000000   \n",
       "max          1024.000000          90.000000            5.000000   \n",
       "\n",
       "       calculated host listings count  availability 365  \n",
       "count                   102280.000000     102151.000000  \n",
       "mean                         7.936605        141.133254  \n",
       "std                         32.218780        135.435024  \n",
       "min                          1.000000        -10.000000  \n",
       "25%                          1.000000          3.000000  \n",
       "50%                          1.000000         96.000000  \n",
       "75%                          2.000000        269.000000  \n",
       "max                        332.000000       3677.000000  "
      ]
     },
     "execution_count": 23,
     "metadata": {},
     "output_type": "execute_result"
    }
   ],
   "source": [
    "airbnb.describe()"
   ]
  },
  {
   "cell_type": "code",
   "execution_count": 24,
   "id": "a5c29ed9",
   "metadata": {},
   "outputs": [
    {
     "data": {
      "text/plain": [
       "id                                    0\n",
       "NAME                                250\n",
       "host id                               0\n",
       "host_identity_verified              289\n",
       "neighbourhood group                  29\n",
       "neighbourhood                        16\n",
       "lat                                   8\n",
       "long                                  8\n",
       "instant_bookable                      0\n",
       "cancellation_policy                   0\n",
       "room type                             0\n",
       "Construction year                   214\n",
       "price                                 0\n",
       "service fee                           0\n",
       "minimum nights                      409\n",
       "number of reviews                   183\n",
       "last review                       15893\n",
       "reviews per month                 15879\n",
       "review rate number                  326\n",
       "calculated host listings count      319\n",
       "availability 365                    448\n",
       "house_rules                       52131\n",
       "dtype: int64"
      ]
     },
     "execution_count": 24,
     "metadata": {},
     "output_type": "execute_result"
    }
   ],
   "source": [
    "airbnb.isna().sum()"
   ]
  },
  {
   "cell_type": "code",
   "execution_count": 25,
   "id": "4c616540",
   "metadata": {},
   "outputs": [],
   "source": [
    "airbnb.loc[airbnb['number of reviews'] == 0,'reviews per month'] = airbnb.loc[airbnb['number of reviews'] == 0,'reviews per month'].fillna(value=0)"
   ]
  },
  {
   "cell_type": "code",
   "execution_count": 26,
   "id": "a16ececd",
   "metadata": {},
   "outputs": [],
   "source": [
    "airbnb.dropna(subset=['reviews per month'], inplace=True)"
   ]
  },
  {
   "cell_type": "code",
   "execution_count": 27,
   "id": "26963e29",
   "metadata": {},
   "outputs": [],
   "source": [
    "airbnb.loc[airbnb['number of reviews'] == 0,'review rate number'] = airbnb.loc[airbnb['number of reviews'] == 0,'review rate number'].fillna(value=0)"
   ]
  },
  {
   "cell_type": "code",
   "execution_count": 28,
   "id": "97d581c3",
   "metadata": {},
   "outputs": [],
   "source": [
    "airbnb.dropna(subset=['review rate number'], inplace=True)"
   ]
  },
  {
   "cell_type": "code",
   "execution_count": 29,
   "id": "c06586f2",
   "metadata": {},
   "outputs": [],
   "source": [
    "airbnb.dropna(subset=['NAME'], inplace=True)"
   ]
  },
  {
   "cell_type": "code",
   "execution_count": 30,
   "id": "9de371ca",
   "metadata": {},
   "outputs": [],
   "source": [
    "airbnb.dropna(subset=['neighbourhood'], inplace=True)"
   ]
  },
  {
   "cell_type": "code",
   "execution_count": 31,
   "id": "4979478d",
   "metadata": {},
   "outputs": [],
   "source": [
    "airbnb.dropna(subset=['lat'], inplace=True)"
   ]
  },
  {
   "cell_type": "code",
   "execution_count": 32,
   "id": "e634c7fb",
   "metadata": {},
   "outputs": [],
   "source": [
    "airbnb['minimum nights'] = airbnb['minimum nights'].fillna(1)"
   ]
  },
  {
   "cell_type": "code",
   "execution_count": 33,
   "id": "b4f8417e",
   "metadata": {},
   "outputs": [
    {
     "name": "stderr",
     "output_type": "stream",
     "text": [
      "C:\\Users\\cleme\\AppData\\Local\\Temp\\ipykernel_16904\\2900157429.py:2: SettingWithCopyWarning: \n",
      "A value is trying to be set on a copy of a slice from a DataFrame\n",
      "\n",
      "See the caveats in the documentation: https://pandas.pydata.org/pandas-docs/stable/user_guide/indexing.html#returning-a-view-versus-a-copy\n",
      "  airbnb['minimum nights'][airbnb['minimum nights'] < 0] = 1\n",
      "C:\\Users\\cleme\\AppData\\Local\\Temp\\ipykernel_16904\\2900157429.py:2: SettingWithCopyWarning: \n",
      "A value is trying to be set on a copy of a slice from a DataFrame\n",
      "\n",
      "See the caveats in the documentation: https://pandas.pydata.org/pandas-docs/stable/user_guide/indexing.html#returning-a-view-versus-a-copy\n",
      "  airbnb['minimum nights'][airbnb['minimum nights'] < 0] = 1\n",
      "C:\\Users\\cleme\\AppData\\Local\\Temp\\ipykernel_16904\\2900157429.py:2: SettingWithCopyWarning: \n",
      "A value is trying to be set on a copy of a slice from a DataFrame\n",
      "\n",
      "See the caveats in the documentation: https://pandas.pydata.org/pandas-docs/stable/user_guide/indexing.html#returning-a-view-versus-a-copy\n",
      "  airbnb['minimum nights'][airbnb['minimum nights'] < 0] = 1\n",
      "C:\\Users\\cleme\\AppData\\Local\\Temp\\ipykernel_16904\\2900157429.py:2: SettingWithCopyWarning: \n",
      "A value is trying to be set on a copy of a slice from a DataFrame\n",
      "\n",
      "See the caveats in the documentation: https://pandas.pydata.org/pandas-docs/stable/user_guide/indexing.html#returning-a-view-versus-a-copy\n",
      "  airbnb['minimum nights'][airbnb['minimum nights'] < 0] = 1\n",
      "C:\\Users\\cleme\\AppData\\Local\\Temp\\ipykernel_16904\\2900157429.py:2: SettingWithCopyWarning: \n",
      "A value is trying to be set on a copy of a slice from a DataFrame\n",
      "\n",
      "See the caveats in the documentation: https://pandas.pydata.org/pandas-docs/stable/user_guide/indexing.html#returning-a-view-versus-a-copy\n",
      "  airbnb['minimum nights'][airbnb['minimum nights'] < 0] = 1\n",
      "C:\\Users\\cleme\\AppData\\Local\\Temp\\ipykernel_16904\\2900157429.py:2: SettingWithCopyWarning: \n",
      "A value is trying to be set on a copy of a slice from a DataFrame\n",
      "\n",
      "See the caveats in the documentation: https://pandas.pydata.org/pandas-docs/stable/user_guide/indexing.html#returning-a-view-versus-a-copy\n",
      "  airbnb['minimum nights'][airbnb['minimum nights'] < 0] = 1\n",
      "C:\\Users\\cleme\\AppData\\Local\\Temp\\ipykernel_16904\\2900157429.py:2: SettingWithCopyWarning: \n",
      "A value is trying to be set on a copy of a slice from a DataFrame\n",
      "\n",
      "See the caveats in the documentation: https://pandas.pydata.org/pandas-docs/stable/user_guide/indexing.html#returning-a-view-versus-a-copy\n",
      "  airbnb['minimum nights'][airbnb['minimum nights'] < 0] = 1\n",
      "C:\\Users\\cleme\\AppData\\Local\\Temp\\ipykernel_16904\\2900157429.py:2: SettingWithCopyWarning: \n",
      "A value is trying to be set on a copy of a slice from a DataFrame\n",
      "\n",
      "See the caveats in the documentation: https://pandas.pydata.org/pandas-docs/stable/user_guide/indexing.html#returning-a-view-versus-a-copy\n",
      "  airbnb['minimum nights'][airbnb['minimum nights'] < 0] = 1\n",
      "C:\\Users\\cleme\\AppData\\Local\\Temp\\ipykernel_16904\\2900157429.py:2: SettingWithCopyWarning: \n",
      "A value is trying to be set on a copy of a slice from a DataFrame\n",
      "\n",
      "See the caveats in the documentation: https://pandas.pydata.org/pandas-docs/stable/user_guide/indexing.html#returning-a-view-versus-a-copy\n",
      "  airbnb['minimum nights'][airbnb['minimum nights'] < 0] = 1\n",
      "C:\\Users\\cleme\\AppData\\Local\\Temp\\ipykernel_16904\\2900157429.py:2: SettingWithCopyWarning: \n",
      "A value is trying to be set on a copy of a slice from a DataFrame\n",
      "\n",
      "See the caveats in the documentation: https://pandas.pydata.org/pandas-docs/stable/user_guide/indexing.html#returning-a-view-versus-a-copy\n",
      "  airbnb['minimum nights'][airbnb['minimum nights'] < 0] = 1\n",
      "C:\\Users\\cleme\\AppData\\Local\\Temp\\ipykernel_16904\\2900157429.py:2: SettingWithCopyWarning: \n",
      "A value is trying to be set on a copy of a slice from a DataFrame\n",
      "\n",
      "See the caveats in the documentation: https://pandas.pydata.org/pandas-docs/stable/user_guide/indexing.html#returning-a-view-versus-a-copy\n",
      "  airbnb['minimum nights'][airbnb['minimum nights'] < 0] = 1\n",
      "C:\\Users\\cleme\\AppData\\Local\\Temp\\ipykernel_16904\\2900157429.py:2: SettingWithCopyWarning: \n",
      "A value is trying to be set on a copy of a slice from a DataFrame\n",
      "\n",
      "See the caveats in the documentation: https://pandas.pydata.org/pandas-docs/stable/user_guide/indexing.html#returning-a-view-versus-a-copy\n",
      "  airbnb['minimum nights'][airbnb['minimum nights'] < 0] = 1\n",
      "C:\\Users\\cleme\\AppData\\Local\\Temp\\ipykernel_16904\\2900157429.py:2: SettingWithCopyWarning: \n",
      "A value is trying to be set on a copy of a slice from a DataFrame\n",
      "\n",
      "See the caveats in the documentation: https://pandas.pydata.org/pandas-docs/stable/user_guide/indexing.html#returning-a-view-versus-a-copy\n",
      "  airbnb['minimum nights'][airbnb['minimum nights'] < 0] = 1\n",
      "C:\\Users\\cleme\\AppData\\Local\\Temp\\ipykernel_16904\\2900157429.py:2: SettingWithCopyWarning: \n",
      "A value is trying to be set on a copy of a slice from a DataFrame\n",
      "\n",
      "See the caveats in the documentation: https://pandas.pydata.org/pandas-docs/stable/user_guide/indexing.html#returning-a-view-versus-a-copy\n",
      "  airbnb['minimum nights'][airbnb['minimum nights'] < 0] = 1\n",
      "C:\\Users\\cleme\\AppData\\Local\\Temp\\ipykernel_16904\\2900157429.py:2: SettingWithCopyWarning: \n",
      "A value is trying to be set on a copy of a slice from a DataFrame\n",
      "\n",
      "See the caveats in the documentation: https://pandas.pydata.org/pandas-docs/stable/user_guide/indexing.html#returning-a-view-versus-a-copy\n",
      "  airbnb['minimum nights'][airbnb['minimum nights'] < 0] = 1\n",
      "C:\\Users\\cleme\\AppData\\Local\\Temp\\ipykernel_16904\\2900157429.py:2: SettingWithCopyWarning: \n",
      "A value is trying to be set on a copy of a slice from a DataFrame\n",
      "\n",
      "See the caveats in the documentation: https://pandas.pydata.org/pandas-docs/stable/user_guide/indexing.html#returning-a-view-versus-a-copy\n",
      "  airbnb['minimum nights'][airbnb['minimum nights'] < 0] = 1\n",
      "C:\\Users\\cleme\\AppData\\Local\\Temp\\ipykernel_16904\\2900157429.py:2: SettingWithCopyWarning: \n",
      "A value is trying to be set on a copy of a slice from a DataFrame\n",
      "\n",
      "See the caveats in the documentation: https://pandas.pydata.org/pandas-docs/stable/user_guide/indexing.html#returning-a-view-versus-a-copy\n",
      "  airbnb['minimum nights'][airbnb['minimum nights'] < 0] = 1\n",
      "C:\\Users\\cleme\\AppData\\Local\\Temp\\ipykernel_16904\\2900157429.py:2: SettingWithCopyWarning: \n",
      "A value is trying to be set on a copy of a slice from a DataFrame\n",
      "\n",
      "See the caveats in the documentation: https://pandas.pydata.org/pandas-docs/stable/user_guide/indexing.html#returning-a-view-versus-a-copy\n",
      "  airbnb['minimum nights'][airbnb['minimum nights'] < 0] = 1\n",
      "C:\\Users\\cleme\\AppData\\Local\\Temp\\ipykernel_16904\\2900157429.py:2: SettingWithCopyWarning: \n",
      "A value is trying to be set on a copy of a slice from a DataFrame\n",
      "\n",
      "See the caveats in the documentation: https://pandas.pydata.org/pandas-docs/stable/user_guide/indexing.html#returning-a-view-versus-a-copy\n",
      "  airbnb['minimum nights'][airbnb['minimum nights'] < 0] = 1\n",
      "C:\\Users\\cleme\\AppData\\Local\\Temp\\ipykernel_16904\\2900157429.py:2: SettingWithCopyWarning: \n",
      "A value is trying to be set on a copy of a slice from a DataFrame\n",
      "\n",
      "See the caveats in the documentation: https://pandas.pydata.org/pandas-docs/stable/user_guide/indexing.html#returning-a-view-versus-a-copy\n",
      "  airbnb['minimum nights'][airbnb['minimum nights'] < 0] = 1\n",
      "C:\\Users\\cleme\\AppData\\Local\\Temp\\ipykernel_16904\\2900157429.py:2: SettingWithCopyWarning: \n",
      "A value is trying to be set on a copy of a slice from a DataFrame\n",
      "\n",
      "See the caveats in the documentation: https://pandas.pydata.org/pandas-docs/stable/user_guide/indexing.html#returning-a-view-versus-a-copy\n",
      "  airbnb['minimum nights'][airbnb['minimum nights'] < 0] = 1\n",
      "C:\\Users\\cleme\\AppData\\Local\\Temp\\ipykernel_16904\\2900157429.py:2: SettingWithCopyWarning: \n",
      "A value is trying to be set on a copy of a slice from a DataFrame\n",
      "\n",
      "See the caveats in the documentation: https://pandas.pydata.org/pandas-docs/stable/user_guide/indexing.html#returning-a-view-versus-a-copy\n",
      "  airbnb['minimum nights'][airbnb['minimum nights'] < 0] = 1\n"
     ]
    }
   ],
   "source": [
    "for col in airbnb.columns:\n",
    "    airbnb['minimum nights'][airbnb['minimum nights'] < 0] = 1"
   ]
  },
  {
   "cell_type": "code",
   "execution_count": 34,
   "id": "86036ebb",
   "metadata": {},
   "outputs": [],
   "source": [
    "airbnb.drop(airbnb[airbnb['minimum nights'] > 365].index, inplace = True)\n"
   ]
  },
  {
   "cell_type": "code",
   "execution_count": 35,
   "id": "65069351",
   "metadata": {},
   "outputs": [],
   "source": [
    "airbnb['house_rules'] = airbnb['house_rules'].fillna('Please follow general terms and conditions available on AirBnb website')"
   ]
  },
  {
   "cell_type": "code",
   "execution_count": 36,
   "id": "6c100d1a",
   "metadata": {},
   "outputs": [],
   "source": [
    "airbnb['host_identity_verified'] = airbnb['host_identity_verified'].fillna('unconfirmed')"
   ]
  },
  {
   "cell_type": "code",
   "execution_count": 37,
   "id": "d7fa8dc9",
   "metadata": {},
   "outputs": [],
   "source": [
    "airbnb.dropna(subset=['neighbourhood group'], inplace=True)"
   ]
  },
  {
   "cell_type": "code",
   "execution_count": 38,
   "id": "26e497bf",
   "metadata": {},
   "outputs": [],
   "source": [
    "airbnb.dropna(subset=['number of reviews'], inplace=True)"
   ]
  },
  {
   "cell_type": "code",
   "execution_count": 39,
   "id": "ae4964b2",
   "metadata": {},
   "outputs": [],
   "source": [
    "airbnb['calculated host listings count'] = airbnb['calculated host listings count'].fillna(airbnb['calculated host listings count'].median())\n"
   ]
  },
  {
   "cell_type": "code",
   "execution_count": 40,
   "id": "b4659780",
   "metadata": {},
   "outputs": [],
   "source": [
    "airbnb['availability 365'] = airbnb['availability 365'].fillna(1)"
   ]
  },
  {
   "cell_type": "code",
   "execution_count": 41,
   "id": "0090f4a6",
   "metadata": {},
   "outputs": [],
   "source": [
    "airbnb['neighbourhood group'] = airbnb['neighbourhood group'].str.replace('brookln', 'Brooklyn')"
   ]
  },
  {
   "cell_type": "code",
   "execution_count": 42,
   "id": "e5d9f4c3",
   "metadata": {},
   "outputs": [],
   "source": [
    "airbnb['neighbourhood group'] = airbnb['neighbourhood group'].str.replace('manhatan', 'Manhattan')"
   ]
  },
  {
   "cell_type": "code",
   "execution_count": 43,
   "id": "16c16310",
   "metadata": {},
   "outputs": [],
   "source": [
    "airbnb.drop(airbnb[airbnb['number of reviews'] > 800].index, inplace = True)"
   ]
  },
  {
   "cell_type": "code",
   "execution_count": 44,
   "id": "15536af6",
   "metadata": {},
   "outputs": [],
   "source": [
    "airbnb.drop(airbnb[airbnb['availability 365'] < 0].index, inplace = True)"
   ]
  },
  {
   "cell_type": "code",
   "execution_count": 45,
   "id": "66b18b8c",
   "metadata": {},
   "outputs": [],
   "source": [
    "airbnb.drop(airbnb[airbnb['availability 365'] > 365].index, inplace = True)"
   ]
  },
  {
   "cell_type": "code",
   "execution_count": 46,
   "id": "ce6404fb",
   "metadata": {},
   "outputs": [],
   "source": [
    "airbnb.drop(airbnb[airbnb['reviews per month'] > 40].index, inplace = True)"
   ]
  },
  {
   "cell_type": "code",
   "execution_count": 47,
   "id": "14c7930d",
   "metadata": {},
   "outputs": [],
   "source": [
    "airbnb.to_csv(r\"C:\\Users\\cleme\\Desktop\\IronHack\\Project 4\\airbnb_clean2.csv\")"
   ]
  }
 ],
 "metadata": {
  "kernelspec": {
   "display_name": "Python 3 (ipykernel)",
   "language": "python",
   "name": "python3"
  },
  "language_info": {
   "codemirror_mode": {
    "name": "ipython",
    "version": 3
   },
   "file_extension": ".py",
   "mimetype": "text/x-python",
   "name": "python",
   "nbconvert_exporter": "python",
   "pygments_lexer": "ipython3",
   "version": "3.9.12"
  }
 },
 "nbformat": 4,
 "nbformat_minor": 5
}
